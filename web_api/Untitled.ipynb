{
 "cells": [
  {
   "cell_type": "code",
   "execution_count": 37,
   "id": "3eda85a5-dcb8-4ee1-8282-bb5e1321acc6",
   "metadata": {},
   "outputs": [],
   "source": [
    "import paramiko\n",
    "import mysql.connector"
   ]
  },
  {
   "cell_type": "code",
   "execution_count": 38,
   "id": "6d7c52c0-0e40-4b4f-b4be-a1549d015501",
   "metadata": {},
   "outputs": [],
   "source": [
    "# Set up SSH client\n",
    "ssh_client = paramiko.SSHClient()\n",
    "ssh_client.set_missing_host_key_policy(paramiko.AutoAddPolicy())"
   ]
  },
  {
   "cell_type": "code",
   "execution_count": 39,
   "id": "5f551bc6-6aa3-44c5-adc0-6dab3f654305",
   "metadata": {},
   "outputs": [],
   "source": [
    "# Connect to EC2 instance\n",
    "host = '18.140.65.95'\n",
    "port = 22\n",
    "username = 'ec2-user'\n",
    "key_filename = 'khoaluankey1.ppk'\n",
    "ssh_client.connect(hostname=host, port=port, username=username, key_filename=key_filename)"
   ]
  },
  {
   "cell_type": "code",
   "execution_count": 40,
   "id": "c7444acf-8122-4dfa-9002-b8db95221892",
   "metadata": {},
   "outputs": [
    {
     "name": "stdout",
     "output_type": "stream",
     "text": [
      "SSH tunnel: <paramiko.Channel 4 (EOF received) (open) window=2097152 in-buffer=86 -> <paramiko.Transport at 0xa70e7a60 (cipher aes128-ctr, 128 bits) (active; 1 open channel(s))>>\n",
      "Local address: ('18.140.65.95', 22)\n",
      "Remote address: ('18.140.65.95', 22)\n"
     ]
    }
   ],
   "source": [
    "print(f'SSH tunnel: {ssh_tunnel}')\n",
    "local_address = ssh_tunnel.transport.getpeername()\n",
    "remote_address = ssh_tunnel.getpeername()\n",
    "print(f'Local address: {local_address}')\n",
    "print(f'Remote address: {remote_address}')"
   ]
  },
  {
   "cell_type": "code",
   "execution_count": 53,
   "id": "bd25d47b-7836-47a6-8cac-88620bb07d78",
   "metadata": {},
   "outputs": [],
   "source": [
    "mysql_host='172.31.22.123'\n",
    "mysql_port = 3306\n",
    "ssh_tunnel = ssh_client.get_transport().open_channel('direct-tcpip', (mysql_host, mysql_port), ('127.0.0.1', 0))"
   ]
  },
  {
   "cell_type": "code",
   "execution_count": 58,
   "id": "420dd398-a751-4c3e-8572-b26b30262b70",
   "metadata": {},
   "outputs": [],
   "source": [
    "# Create an SSH client and connect to the SSH server\n",
    "ssh_client = paramiko.SSHClient()\n",
    "ssh_client.set_missing_host_key_policy(paramiko.AutoAddPolicy())\n",
    "ssh_client.connect(host, port, username, key_filename=key_filename)"
   ]
  },
  {
   "cell_type": "code",
   "execution_count": 59,
   "id": "fd0f9f96-2945-4e8b-b96e-ca3ce69b8c16",
   "metadata": {},
   "outputs": [
    {
     "ename": "TypeError",
     "evalue": "request_port_forward() takes from 3 to 4 positional arguments but 5 were given",
     "output_type": "error",
     "traceback": [
      "\u001b[1;31m---------------------------------------------------------------------------\u001b[0m",
      "\u001b[1;31mTypeError\u001b[0m                                 Traceback (most recent call last)",
      "Cell \u001b[1;32mIn[59], line 2\u001b[0m\n\u001b[0;32m      1\u001b[0m local_port \u001b[38;5;241m=\u001b[39m \u001b[38;5;241m12345\u001b[39m  \u001b[38;5;66;03m# Choose an available local port number\u001b[39;00m\n\u001b[1;32m----> 2\u001b[0m \u001b[43mssh_client\u001b[49m\u001b[38;5;241;43m.\u001b[39;49m\u001b[43mget_transport\u001b[49m\u001b[43m(\u001b[49m\u001b[43m)\u001b[49m\u001b[38;5;241;43m.\u001b[39;49m\u001b[43mrequest_port_forward\u001b[49m\u001b[43m(\u001b[49m\u001b[38;5;124;43m'\u001b[39;49m\u001b[38;5;124;43m127.0.0.1\u001b[39;49m\u001b[38;5;124;43m'\u001b[39;49m\u001b[43m,\u001b[49m\u001b[43m \u001b[49m\u001b[43mlocal_port\u001b[49m\u001b[43m,\u001b[49m\u001b[43m \u001b[49m\u001b[43mmysql_host\u001b[49m\u001b[43m,\u001b[49m\u001b[43m \u001b[49m\u001b[43mmysql_port\u001b[49m\u001b[43m)\u001b[49m\n",
      "\u001b[1;31mTypeError\u001b[0m: request_port_forward() takes from 3 to 4 positional arguments but 5 were given"
     ]
    }
   ],
   "source": [
    "local_port = 12345  # Choose an available local port number\n",
    "ssh_client.get_transport().request_port_forward('127.0.0.1', local_port, mysql_host, mysql_port)"
   ]
  },
  {
   "cell_type": "code",
   "execution_count": 54,
   "id": "c4cef9b1-36e2-4a08-b77f-8cebd95eed8e",
   "metadata": {},
   "outputs": [
    {
     "name": "stdout",
     "output_type": "stream",
     "text": [
      "SSH tunnel: <paramiko.Channel 3 (open) window=2097152 in-buffer=86 -> <paramiko.Transport at 0xa8a01220 (cipher aes128-ctr, 128 bits) (active; 1 open channel(s))>>\n"
     ]
    }
   ],
   "source": [
    "print(f'SSH tunnel: {ssh_tunnel}')"
   ]
  },
  {
   "cell_type": "code",
   "execution_count": 55,
   "id": "16059b3d-824d-4e39-852f-d13235b3b206",
   "metadata": {},
   "outputs": [
    {
     "ename": "AttributeError",
     "evalue": "'Channel' object has no attribute 'local_bind_port'",
     "output_type": "error",
     "traceback": [
      "\u001b[1;31m---------------------------------------------------------------------------\u001b[0m",
      "\u001b[1;31mAttributeError\u001b[0m                            Traceback (most recent call last)",
      "Cell \u001b[1;32mIn[55], line 1\u001b[0m\n\u001b[1;32m----> 1\u001b[0m local_port \u001b[38;5;241m=\u001b[39m \u001b[43mssh_tunnel\u001b[49m\u001b[38;5;241;43m.\u001b[39;49m\u001b[43mlocal_bind_port\u001b[49m\n",
      "\u001b[1;31mAttributeError\u001b[0m: 'Channel' object has no attribute 'local_bind_port'"
     ]
    }
   ],
   "source": [
    "local_port = ssh_tunnel.local_bind_port"
   ]
  },
  {
   "cell_type": "code",
   "execution_count": 56,
   "id": "fbc2ab0c-36c4-4090-adb5-126eae992f36",
   "metadata": {},
   "outputs": [
    {
     "ename": "AttributeError",
     "evalue": "'Channel' object has no attribute 'local_bind_port'",
     "output_type": "error",
     "traceback": [
      "\u001b[1;31m---------------------------------------------------------------------------\u001b[0m",
      "\u001b[1;31mAttributeError\u001b[0m                            Traceback (most recent call last)",
      "Cell \u001b[1;32mIn[56], line 6\u001b[0m\n\u001b[0;32m      1\u001b[0m mysql_config \u001b[38;5;241m=\u001b[39m {\n\u001b[0;32m      2\u001b[0m     \u001b[38;5;124m'\u001b[39m\u001b[38;5;124muser\u001b[39m\u001b[38;5;124m'\u001b[39m: \u001b[38;5;124m'\u001b[39m\u001b[38;5;124myung575451\u001b[39m\u001b[38;5;124m'\u001b[39m,\n\u001b[0;32m      3\u001b[0m     \u001b[38;5;124m'\u001b[39m\u001b[38;5;124mpassword\u001b[39m\u001b[38;5;124m'\u001b[39m: \u001b[38;5;124m'\u001b[39m\u001b[38;5;124myung595653\u001b[39m\u001b[38;5;124m'\u001b[39m,\n\u001b[0;32m      4\u001b[0m     \u001b[38;5;124m'\u001b[39m\u001b[38;5;124mhost\u001b[39m\u001b[38;5;124m'\u001b[39m: \u001b[38;5;124m'\u001b[39m\u001b[38;5;124m18.140.65.95\u001b[39m\u001b[38;5;124m'\u001b[39m,\n\u001b[0;32m      5\u001b[0m     \u001b[38;5;124m'\u001b[39m\u001b[38;5;124mdatabase\u001b[39m\u001b[38;5;124m'\u001b[39m: \u001b[38;5;124m'\u001b[39m\u001b[38;5;124mkhoaluan\u001b[39m\u001b[38;5;124m'\u001b[39m,\n\u001b[1;32m----> 6\u001b[0m     \u001b[38;5;124m'\u001b[39m\u001b[38;5;124mport\u001b[39m\u001b[38;5;124m'\u001b[39m: \u001b[43mssh_tunnel\u001b[49m\u001b[38;5;241;43m.\u001b[39;49m\u001b[43mlocal_bind_port\u001b[49m, \u001b[38;5;66;03m# Use local port of SSH tunnel,\u001b[39;00m\n\u001b[0;32m      7\u001b[0m     \u001b[38;5;124m'\u001b[39m\u001b[38;5;124mconnection_timeout\u001b[39m\u001b[38;5;124m'\u001b[39m: \u001b[38;5;241m5\u001b[39m,\n\u001b[0;32m      8\u001b[0m }\n\u001b[0;32m      9\u001b[0m mysql_conn \u001b[38;5;241m=\u001b[39m mysql\u001b[38;5;241m.\u001b[39mconnector\u001b[38;5;241m.\u001b[39mconnect(\u001b[38;5;241m*\u001b[39m\u001b[38;5;241m*\u001b[39mmysql_config)\n",
      "\u001b[1;31mAttributeError\u001b[0m: 'Channel' object has no attribute 'local_bind_port'"
     ]
    }
   ],
   "source": [
    "mysql_config = {\n",
    "    'user': 'yung575451',\n",
    "    'password': 'yung595653',\n",
    "    'host': '18.140.65.95',\n",
    "    'database': 'khoaluan',\n",
    "    'port': ssh_tunnel.local_bind_port, # Use local port of SSH tunnel,\n",
    "    'connection_timeout': 5,\n",
    "}\n",
    "mysql_conn = mysql.connector.connect(**mysql_config)"
   ]
  },
  {
   "cell_type": "code",
   "execution_count": null,
   "id": "a4b3d8dc-5d9c-46d6-b906-d342514d96fe",
   "metadata": {},
   "outputs": [],
   "source": [
    "cursor = mysql_conn.cursor()\n",
    "cursor.execute('SELECT * FROM khoaluan.Auth_user;')\n",
    "result = cursor.fetchall()\n",
    "print(result)"
   ]
  },
  {
   "cell_type": "code",
   "execution_count": null,
   "id": "321185f8-f937-4c34-83f7-d4d88c81f949",
   "metadata": {},
   "outputs": [],
   "source": []
  }
 ],
 "metadata": {
  "kernelspec": {
   "display_name": "Python 3 (ipykernel)",
   "language": "python",
   "name": "python3"
  },
  "language_info": {
   "codemirror_mode": {
    "name": "ipython",
    "version": 3
   },
   "file_extension": ".py",
   "mimetype": "text/x-python",
   "name": "python",
   "nbconvert_exporter": "python",
   "pygments_lexer": "ipython3",
   "version": "3.9.16"
  }
 },
 "nbformat": 4,
 "nbformat_minor": 5
}
